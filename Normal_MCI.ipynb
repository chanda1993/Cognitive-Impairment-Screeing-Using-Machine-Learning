{
 "cells": [
  {
   "cell_type": "code",
   "execution_count": 1,
   "metadata": {},
   "outputs": [],
   "source": [
    "import pandas as pd\n",
    "import numpy as np\n",
    "import matplotlib.pyplot as plt"
   ]
  },
  {
   "cell_type": "markdown",
   "metadata": {},
   "source": [
    "### row = record\n",
    "### column = attribute / dimension\n",
    "### target = prediction"
   ]
  },
  {
   "cell_type": "code",
   "execution_count": 2,
   "metadata": {},
   "outputs": [
    {
     "ename": "FileNotFoundError",
     "evalue": "[Errno 2] File Test.csv does not exist: 'Test.csv'",
     "output_type": "error",
     "traceback": [
      "\u001b[1;31m---------------------------------------------------------------------------\u001b[0m",
      "\u001b[1;31mFileNotFoundError\u001b[0m                         Traceback (most recent call last)",
      "\u001b[1;32m<ipython-input-2-f563827a6638>\u001b[0m in \u001b[0;36m<module>\u001b[1;34m\u001b[0m\n\u001b[1;32m----> 1\u001b[1;33m \u001b[0mTests_df\u001b[0m \u001b[1;33m=\u001b[0m \u001b[0mpd\u001b[0m\u001b[1;33m.\u001b[0m\u001b[0mread_csv\u001b[0m\u001b[1;33m(\u001b[0m\u001b[1;34m'Test.csv'\u001b[0m\u001b[1;33m)\u001b[0m\u001b[1;33m\u001b[0m\u001b[1;33m\u001b[0m\u001b[0m\n\u001b[0m",
      "\u001b[1;32m~\\anaconda3\\lib\\site-packages\\pandas\\io\\parsers.py\u001b[0m in \u001b[0;36mparser_f\u001b[1;34m(filepath_or_buffer, sep, delimiter, header, names, index_col, usecols, squeeze, prefix, mangle_dupe_cols, dtype, engine, converters, true_values, false_values, skipinitialspace, skiprows, skipfooter, nrows, na_values, keep_default_na, na_filter, verbose, skip_blank_lines, parse_dates, infer_datetime_format, keep_date_col, date_parser, dayfirst, cache_dates, iterator, chunksize, compression, thousands, decimal, lineterminator, quotechar, quoting, doublequote, escapechar, comment, encoding, dialect, error_bad_lines, warn_bad_lines, delim_whitespace, low_memory, memory_map, float_precision)\u001b[0m\n\u001b[0;32m    674\u001b[0m         )\n\u001b[0;32m    675\u001b[0m \u001b[1;33m\u001b[0m\u001b[0m\n\u001b[1;32m--> 676\u001b[1;33m         \u001b[1;32mreturn\u001b[0m \u001b[0m_read\u001b[0m\u001b[1;33m(\u001b[0m\u001b[0mfilepath_or_buffer\u001b[0m\u001b[1;33m,\u001b[0m \u001b[0mkwds\u001b[0m\u001b[1;33m)\u001b[0m\u001b[1;33m\u001b[0m\u001b[1;33m\u001b[0m\u001b[0m\n\u001b[0m\u001b[0;32m    677\u001b[0m \u001b[1;33m\u001b[0m\u001b[0m\n\u001b[0;32m    678\u001b[0m     \u001b[0mparser_f\u001b[0m\u001b[1;33m.\u001b[0m\u001b[0m__name__\u001b[0m \u001b[1;33m=\u001b[0m \u001b[0mname\u001b[0m\u001b[1;33m\u001b[0m\u001b[1;33m\u001b[0m\u001b[0m\n",
      "\u001b[1;32m~\\anaconda3\\lib\\site-packages\\pandas\\io\\parsers.py\u001b[0m in \u001b[0;36m_read\u001b[1;34m(filepath_or_buffer, kwds)\u001b[0m\n\u001b[0;32m    446\u001b[0m \u001b[1;33m\u001b[0m\u001b[0m\n\u001b[0;32m    447\u001b[0m     \u001b[1;31m# Create the parser.\u001b[0m\u001b[1;33m\u001b[0m\u001b[1;33m\u001b[0m\u001b[1;33m\u001b[0m\u001b[0m\n\u001b[1;32m--> 448\u001b[1;33m     \u001b[0mparser\u001b[0m \u001b[1;33m=\u001b[0m \u001b[0mTextFileReader\u001b[0m\u001b[1;33m(\u001b[0m\u001b[0mfp_or_buf\u001b[0m\u001b[1;33m,\u001b[0m \u001b[1;33m**\u001b[0m\u001b[0mkwds\u001b[0m\u001b[1;33m)\u001b[0m\u001b[1;33m\u001b[0m\u001b[1;33m\u001b[0m\u001b[0m\n\u001b[0m\u001b[0;32m    449\u001b[0m \u001b[1;33m\u001b[0m\u001b[0m\n\u001b[0;32m    450\u001b[0m     \u001b[1;32mif\u001b[0m \u001b[0mchunksize\u001b[0m \u001b[1;32mor\u001b[0m \u001b[0miterator\u001b[0m\u001b[1;33m:\u001b[0m\u001b[1;33m\u001b[0m\u001b[1;33m\u001b[0m\u001b[0m\n",
      "\u001b[1;32m~\\anaconda3\\lib\\site-packages\\pandas\\io\\parsers.py\u001b[0m in \u001b[0;36m__init__\u001b[1;34m(self, f, engine, **kwds)\u001b[0m\n\u001b[0;32m    878\u001b[0m             \u001b[0mself\u001b[0m\u001b[1;33m.\u001b[0m\u001b[0moptions\u001b[0m\u001b[1;33m[\u001b[0m\u001b[1;34m\"has_index_names\"\u001b[0m\u001b[1;33m]\u001b[0m \u001b[1;33m=\u001b[0m \u001b[0mkwds\u001b[0m\u001b[1;33m[\u001b[0m\u001b[1;34m\"has_index_names\"\u001b[0m\u001b[1;33m]\u001b[0m\u001b[1;33m\u001b[0m\u001b[1;33m\u001b[0m\u001b[0m\n\u001b[0;32m    879\u001b[0m \u001b[1;33m\u001b[0m\u001b[0m\n\u001b[1;32m--> 880\u001b[1;33m         \u001b[0mself\u001b[0m\u001b[1;33m.\u001b[0m\u001b[0m_make_engine\u001b[0m\u001b[1;33m(\u001b[0m\u001b[0mself\u001b[0m\u001b[1;33m.\u001b[0m\u001b[0mengine\u001b[0m\u001b[1;33m)\u001b[0m\u001b[1;33m\u001b[0m\u001b[1;33m\u001b[0m\u001b[0m\n\u001b[0m\u001b[0;32m    881\u001b[0m \u001b[1;33m\u001b[0m\u001b[0m\n\u001b[0;32m    882\u001b[0m     \u001b[1;32mdef\u001b[0m \u001b[0mclose\u001b[0m\u001b[1;33m(\u001b[0m\u001b[0mself\u001b[0m\u001b[1;33m)\u001b[0m\u001b[1;33m:\u001b[0m\u001b[1;33m\u001b[0m\u001b[1;33m\u001b[0m\u001b[0m\n",
      "\u001b[1;32m~\\anaconda3\\lib\\site-packages\\pandas\\io\\parsers.py\u001b[0m in \u001b[0;36m_make_engine\u001b[1;34m(self, engine)\u001b[0m\n\u001b[0;32m   1112\u001b[0m     \u001b[1;32mdef\u001b[0m \u001b[0m_make_engine\u001b[0m\u001b[1;33m(\u001b[0m\u001b[0mself\u001b[0m\u001b[1;33m,\u001b[0m \u001b[0mengine\u001b[0m\u001b[1;33m=\u001b[0m\u001b[1;34m\"c\"\u001b[0m\u001b[1;33m)\u001b[0m\u001b[1;33m:\u001b[0m\u001b[1;33m\u001b[0m\u001b[1;33m\u001b[0m\u001b[0m\n\u001b[0;32m   1113\u001b[0m         \u001b[1;32mif\u001b[0m \u001b[0mengine\u001b[0m \u001b[1;33m==\u001b[0m \u001b[1;34m\"c\"\u001b[0m\u001b[1;33m:\u001b[0m\u001b[1;33m\u001b[0m\u001b[1;33m\u001b[0m\u001b[0m\n\u001b[1;32m-> 1114\u001b[1;33m             \u001b[0mself\u001b[0m\u001b[1;33m.\u001b[0m\u001b[0m_engine\u001b[0m \u001b[1;33m=\u001b[0m \u001b[0mCParserWrapper\u001b[0m\u001b[1;33m(\u001b[0m\u001b[0mself\u001b[0m\u001b[1;33m.\u001b[0m\u001b[0mf\u001b[0m\u001b[1;33m,\u001b[0m \u001b[1;33m**\u001b[0m\u001b[0mself\u001b[0m\u001b[1;33m.\u001b[0m\u001b[0moptions\u001b[0m\u001b[1;33m)\u001b[0m\u001b[1;33m\u001b[0m\u001b[1;33m\u001b[0m\u001b[0m\n\u001b[0m\u001b[0;32m   1115\u001b[0m         \u001b[1;32melse\u001b[0m\u001b[1;33m:\u001b[0m\u001b[1;33m\u001b[0m\u001b[1;33m\u001b[0m\u001b[0m\n\u001b[0;32m   1116\u001b[0m             \u001b[1;32mif\u001b[0m \u001b[0mengine\u001b[0m \u001b[1;33m==\u001b[0m \u001b[1;34m\"python\"\u001b[0m\u001b[1;33m:\u001b[0m\u001b[1;33m\u001b[0m\u001b[1;33m\u001b[0m\u001b[0m\n",
      "\u001b[1;32m~\\anaconda3\\lib\\site-packages\\pandas\\io\\parsers.py\u001b[0m in \u001b[0;36m__init__\u001b[1;34m(self, src, **kwds)\u001b[0m\n\u001b[0;32m   1889\u001b[0m         \u001b[0mkwds\u001b[0m\u001b[1;33m[\u001b[0m\u001b[1;34m\"usecols\"\u001b[0m\u001b[1;33m]\u001b[0m \u001b[1;33m=\u001b[0m \u001b[0mself\u001b[0m\u001b[1;33m.\u001b[0m\u001b[0musecols\u001b[0m\u001b[1;33m\u001b[0m\u001b[1;33m\u001b[0m\u001b[0m\n\u001b[0;32m   1890\u001b[0m \u001b[1;33m\u001b[0m\u001b[0m\n\u001b[1;32m-> 1891\u001b[1;33m         \u001b[0mself\u001b[0m\u001b[1;33m.\u001b[0m\u001b[0m_reader\u001b[0m \u001b[1;33m=\u001b[0m \u001b[0mparsers\u001b[0m\u001b[1;33m.\u001b[0m\u001b[0mTextReader\u001b[0m\u001b[1;33m(\u001b[0m\u001b[0msrc\u001b[0m\u001b[1;33m,\u001b[0m \u001b[1;33m**\u001b[0m\u001b[0mkwds\u001b[0m\u001b[1;33m)\u001b[0m\u001b[1;33m\u001b[0m\u001b[1;33m\u001b[0m\u001b[0m\n\u001b[0m\u001b[0;32m   1892\u001b[0m         \u001b[0mself\u001b[0m\u001b[1;33m.\u001b[0m\u001b[0munnamed_cols\u001b[0m \u001b[1;33m=\u001b[0m \u001b[0mself\u001b[0m\u001b[1;33m.\u001b[0m\u001b[0m_reader\u001b[0m\u001b[1;33m.\u001b[0m\u001b[0munnamed_cols\u001b[0m\u001b[1;33m\u001b[0m\u001b[1;33m\u001b[0m\u001b[0m\n\u001b[0;32m   1893\u001b[0m \u001b[1;33m\u001b[0m\u001b[0m\n",
      "\u001b[1;32mpandas\\_libs\\parsers.pyx\u001b[0m in \u001b[0;36mpandas._libs.parsers.TextReader.__cinit__\u001b[1;34m()\u001b[0m\n",
      "\u001b[1;32mpandas\\_libs\\parsers.pyx\u001b[0m in \u001b[0;36mpandas._libs.parsers.TextReader._setup_parser_source\u001b[1;34m()\u001b[0m\n",
      "\u001b[1;31mFileNotFoundError\u001b[0m: [Errno 2] File Test.csv does not exist: 'Test.csv'"
     ]
    }
   ],
   "source": [
    "Tests_df = pd.read_csv('Test.csv')"
   ]
  },
  {
   "cell_type": "code",
   "execution_count": 3,
   "metadata": {},
   "outputs": [
    {
     "data": {
      "text/html": [
       "<div>\n",
       "<style scoped>\n",
       "    .dataframe tbody tr th:only-of-type {\n",
       "        vertical-align: middle;\n",
       "    }\n",
       "\n",
       "    .dataframe tbody tr th {\n",
       "        vertical-align: top;\n",
       "    }\n",
       "\n",
       "    .dataframe thead th {\n",
       "        text-align: right;\n",
       "    }\n",
       "</style>\n",
       "<table border=\"1\" class=\"dataframe\">\n",
       "  <thead>\n",
       "    <tr style=\"text-align: right;\">\n",
       "      <th></th>\n",
       "      <th>Unnamed: 0</th>\n",
       "      <th>Edu</th>\n",
       "      <th>Age</th>\n",
       "      <th>Digit_span_Forward</th>\n",
       "      <th>Digit_span_Backward</th>\n",
       "      <th>Letter_cancellation</th>\n",
       "      <th>Spontaneous_speech_fluency</th>\n",
       "      <th>Spontaneous_speech_contents</th>\n",
       "      <th>Comprehension</th>\n",
       "      <th>Naming_K_BNT</th>\n",
       "      <th>...</th>\n",
       "      <th>StroopTest_Colorreading_correct</th>\n",
       "      <th>StroopTest_Colorreading_error</th>\n",
       "      <th>K_MMSE_orientation_to_time</th>\n",
       "      <th>K_MMSE_orientation_to_place</th>\n",
       "      <th>K_MMSE_Registation</th>\n",
       "      <th>K_MMSE_attention_and_calculation</th>\n",
       "      <th>K_MMSE_recall</th>\n",
       "      <th>K_MMSE_language</th>\n",
       "      <th>K_MMSE_drawing</th>\n",
       "      <th>Dx</th>\n",
       "    </tr>\n",
       "  </thead>\n",
       "  <tbody>\n",
       "    <tr>\n",
       "      <th>0</th>\n",
       "      <td>0</td>\n",
       "      <td>3.0</td>\n",
       "      <td>50</td>\n",
       "      <td>4</td>\n",
       "      <td>2</td>\n",
       "      <td>3</td>\n",
       "      <td>3</td>\n",
       "      <td>3</td>\n",
       "      <td>3</td>\n",
       "      <td>45</td>\n",
       "      <td>...</td>\n",
       "      <td>89</td>\n",
       "      <td>1</td>\n",
       "      <td>5</td>\n",
       "      <td>5</td>\n",
       "      <td>3</td>\n",
       "      <td>4</td>\n",
       "      <td>3</td>\n",
       "      <td>6</td>\n",
       "      <td>1</td>\n",
       "      <td>0</td>\n",
       "    </tr>\n",
       "    <tr>\n",
       "      <th>1</th>\n",
       "      <td>1</td>\n",
       "      <td>6.0</td>\n",
       "      <td>50</td>\n",
       "      <td>8</td>\n",
       "      <td>4</td>\n",
       "      <td>3</td>\n",
       "      <td>3</td>\n",
       "      <td>3</td>\n",
       "      <td>3</td>\n",
       "      <td>51</td>\n",
       "      <td>...</td>\n",
       "      <td>100</td>\n",
       "      <td>0</td>\n",
       "      <td>5</td>\n",
       "      <td>5</td>\n",
       "      <td>3</td>\n",
       "      <td>5</td>\n",
       "      <td>3</td>\n",
       "      <td>7</td>\n",
       "      <td>1</td>\n",
       "      <td>0</td>\n",
       "    </tr>\n",
       "    <tr>\n",
       "      <th>2</th>\n",
       "      <td>2</td>\n",
       "      <td>6.0</td>\n",
       "      <td>50</td>\n",
       "      <td>6</td>\n",
       "      <td>3</td>\n",
       "      <td>3</td>\n",
       "      <td>3</td>\n",
       "      <td>3</td>\n",
       "      <td>3</td>\n",
       "      <td>51</td>\n",
       "      <td>...</td>\n",
       "      <td>78</td>\n",
       "      <td>1</td>\n",
       "      <td>5</td>\n",
       "      <td>5</td>\n",
       "      <td>3</td>\n",
       "      <td>3</td>\n",
       "      <td>2</td>\n",
       "      <td>8</td>\n",
       "      <td>1</td>\n",
       "      <td>0</td>\n",
       "    </tr>\n",
       "    <tr>\n",
       "      <th>3</th>\n",
       "      <td>3</td>\n",
       "      <td>16.0</td>\n",
       "      <td>50</td>\n",
       "      <td>9</td>\n",
       "      <td>7</td>\n",
       "      <td>3</td>\n",
       "      <td>3</td>\n",
       "      <td>3</td>\n",
       "      <td>3</td>\n",
       "      <td>51</td>\n",
       "      <td>...</td>\n",
       "      <td>112</td>\n",
       "      <td>0</td>\n",
       "      <td>5</td>\n",
       "      <td>5</td>\n",
       "      <td>3</td>\n",
       "      <td>5</td>\n",
       "      <td>3</td>\n",
       "      <td>8</td>\n",
       "      <td>1</td>\n",
       "      <td>1</td>\n",
       "    </tr>\n",
       "    <tr>\n",
       "      <th>4</th>\n",
       "      <td>4</td>\n",
       "      <td>9.0</td>\n",
       "      <td>50</td>\n",
       "      <td>6</td>\n",
       "      <td>4</td>\n",
       "      <td>3</td>\n",
       "      <td>3</td>\n",
       "      <td>3</td>\n",
       "      <td>3</td>\n",
       "      <td>52</td>\n",
       "      <td>...</td>\n",
       "      <td>81</td>\n",
       "      <td>2</td>\n",
       "      <td>3</td>\n",
       "      <td>3</td>\n",
       "      <td>3</td>\n",
       "      <td>3</td>\n",
       "      <td>1</td>\n",
       "      <td>7</td>\n",
       "      <td>1</td>\n",
       "      <td>1</td>\n",
       "    </tr>\n",
       "  </tbody>\n",
       "</table>\n",
       "<p>5 rows × 48 columns</p>\n",
       "</div>"
      ],
      "text/plain": [
       "   Unnamed: 0   Edu  Age  Digit_span_Forward  Digit_span_Backward  \\\n",
       "0           0   3.0   50                   4                    2   \n",
       "1           1   6.0   50                   8                    4   \n",
       "2           2   6.0   50                   6                    3   \n",
       "3           3  16.0   50                   9                    7   \n",
       "4           4   9.0   50                   6                    4   \n",
       "\n",
       "   Letter_cancellation  Spontaneous_speech_fluency  \\\n",
       "0                    3                           3   \n",
       "1                    3                           3   \n",
       "2                    3                           3   \n",
       "3                    3                           3   \n",
       "4                    3                           3   \n",
       "\n",
       "   Spontaneous_speech_contents  Comprehension  Naming_K_BNT  ...  \\\n",
       "0                            3              3            45  ...   \n",
       "1                            3              3            51  ...   \n",
       "2                            3              3            51  ...   \n",
       "3                            3              3            51  ...   \n",
       "4                            3              3            52  ...   \n",
       "\n",
       "   StroopTest_Colorreading_correct  StroopTest_Colorreading_error  \\\n",
       "0                               89                              1   \n",
       "1                              100                              0   \n",
       "2                               78                              1   \n",
       "3                              112                              0   \n",
       "4                               81                              2   \n",
       "\n",
       "   K_MMSE_orientation_to_time  K_MMSE_orientation_to_place  \\\n",
       "0                           5                            5   \n",
       "1                           5                            5   \n",
       "2                           5                            5   \n",
       "3                           5                            5   \n",
       "4                           3                            3   \n",
       "\n",
       "   K_MMSE_Registation  K_MMSE_attention_and_calculation  K_MMSE_recall  \\\n",
       "0                   3                                 4              3   \n",
       "1                   3                                 5              3   \n",
       "2                   3                                 3              2   \n",
       "3                   3                                 5              3   \n",
       "4                   3                                 3              1   \n",
       "\n",
       "   K_MMSE_language  K_MMSE_drawing  Dx  \n",
       "0                6               1   0  \n",
       "1                7               1   0  \n",
       "2                8               1   0  \n",
       "3                8               1   1  \n",
       "4                7               1   1  \n",
       "\n",
       "[5 rows x 48 columns]"
      ]
     },
     "execution_count": 3,
     "metadata": {},
     "output_type": "execute_result"
    }
   ],
   "source": [
    "Tests_df.head()"
   ]
  },
  {
   "cell_type": "code",
   "execution_count": 4,
   "metadata": {},
   "outputs": [
    {
     "data": {
      "text/html": [
       "<div>\n",
       "<style scoped>\n",
       "    .dataframe tbody tr th:only-of-type {\n",
       "        vertical-align: middle;\n",
       "    }\n",
       "\n",
       "    .dataframe tbody tr th {\n",
       "        vertical-align: top;\n",
       "    }\n",
       "\n",
       "    .dataframe thead th {\n",
       "        text-align: right;\n",
       "    }\n",
       "</style>\n",
       "<table border=\"1\" class=\"dataframe\">\n",
       "  <thead>\n",
       "    <tr style=\"text-align: right;\">\n",
       "      <th></th>\n",
       "      <th>Unnamed: 0</th>\n",
       "      <th>Edu</th>\n",
       "      <th>Age</th>\n",
       "      <th>Digit_span_Forward</th>\n",
       "      <th>Digit_span_Backward</th>\n",
       "      <th>Letter_cancellation</th>\n",
       "      <th>Spontaneous_speech_fluency</th>\n",
       "      <th>Spontaneous_speech_contents</th>\n",
       "      <th>Comprehension</th>\n",
       "      <th>Naming_K_BNT</th>\n",
       "      <th>...</th>\n",
       "      <th>StroopTest_Colorreading_correct</th>\n",
       "      <th>StroopTest_Colorreading_error</th>\n",
       "      <th>K_MMSE_orientation_to_time</th>\n",
       "      <th>K_MMSE_orientation_to_place</th>\n",
       "      <th>K_MMSE_Registation</th>\n",
       "      <th>K_MMSE_attention_and_calculation</th>\n",
       "      <th>K_MMSE_recall</th>\n",
       "      <th>K_MMSE_language</th>\n",
       "      <th>K_MMSE_drawing</th>\n",
       "      <th>Dx</th>\n",
       "    </tr>\n",
       "  </thead>\n",
       "  <tbody>\n",
       "    <tr>\n",
       "      <th>9214</th>\n",
       "      <td>14921</td>\n",
       "      <td>18.0</td>\n",
       "      <td>80</td>\n",
       "      <td>6</td>\n",
       "      <td>4</td>\n",
       "      <td>3</td>\n",
       "      <td>3</td>\n",
       "      <td>3</td>\n",
       "      <td>3</td>\n",
       "      <td>47</td>\n",
       "      <td>...</td>\n",
       "      <td>82</td>\n",
       "      <td>0</td>\n",
       "      <td>5</td>\n",
       "      <td>5</td>\n",
       "      <td>3</td>\n",
       "      <td>5</td>\n",
       "      <td>3</td>\n",
       "      <td>8</td>\n",
       "      <td>1</td>\n",
       "      <td>0</td>\n",
       "    </tr>\n",
       "    <tr>\n",
       "      <th>9215</th>\n",
       "      <td>14922</td>\n",
       "      <td>18.0</td>\n",
       "      <td>80</td>\n",
       "      <td>6</td>\n",
       "      <td>4</td>\n",
       "      <td>3</td>\n",
       "      <td>3</td>\n",
       "      <td>3</td>\n",
       "      <td>3</td>\n",
       "      <td>47</td>\n",
       "      <td>...</td>\n",
       "      <td>82</td>\n",
       "      <td>0</td>\n",
       "      <td>5</td>\n",
       "      <td>5</td>\n",
       "      <td>3</td>\n",
       "      <td>5</td>\n",
       "      <td>3</td>\n",
       "      <td>8</td>\n",
       "      <td>1</td>\n",
       "      <td>0</td>\n",
       "    </tr>\n",
       "    <tr>\n",
       "      <th>9216</th>\n",
       "      <td>14923</td>\n",
       "      <td>18.0</td>\n",
       "      <td>80</td>\n",
       "      <td>18</td>\n",
       "      <td>4</td>\n",
       "      <td>3</td>\n",
       "      <td>3</td>\n",
       "      <td>3</td>\n",
       "      <td>3</td>\n",
       "      <td>47</td>\n",
       "      <td>...</td>\n",
       "      <td>82</td>\n",
       "      <td>0</td>\n",
       "      <td>5</td>\n",
       "      <td>5</td>\n",
       "      <td>3</td>\n",
       "      <td>5</td>\n",
       "      <td>3</td>\n",
       "      <td>8</td>\n",
       "      <td>1</td>\n",
       "      <td>0</td>\n",
       "    </tr>\n",
       "    <tr>\n",
       "      <th>9217</th>\n",
       "      <td>14924</td>\n",
       "      <td>18.0</td>\n",
       "      <td>80</td>\n",
       "      <td>18</td>\n",
       "      <td>3</td>\n",
       "      <td>3</td>\n",
       "      <td>3</td>\n",
       "      <td>3</td>\n",
       "      <td>3</td>\n",
       "      <td>47</td>\n",
       "      <td>...</td>\n",
       "      <td>82</td>\n",
       "      <td>0</td>\n",
       "      <td>5</td>\n",
       "      <td>5</td>\n",
       "      <td>3</td>\n",
       "      <td>4</td>\n",
       "      <td>0</td>\n",
       "      <td>7</td>\n",
       "      <td>1</td>\n",
       "      <td>0</td>\n",
       "    </tr>\n",
       "    <tr>\n",
       "      <th>9218</th>\n",
       "      <td>14925</td>\n",
       "      <td>18.0</td>\n",
       "      <td>80</td>\n",
       "      <td>6</td>\n",
       "      <td>4</td>\n",
       "      <td>3</td>\n",
       "      <td>3</td>\n",
       "      <td>3</td>\n",
       "      <td>3</td>\n",
       "      <td>47</td>\n",
       "      <td>...</td>\n",
       "      <td>82</td>\n",
       "      <td>0</td>\n",
       "      <td>5</td>\n",
       "      <td>5</td>\n",
       "      <td>3</td>\n",
       "      <td>5</td>\n",
       "      <td>3</td>\n",
       "      <td>8</td>\n",
       "      <td>1</td>\n",
       "      <td>0</td>\n",
       "    </tr>\n",
       "  </tbody>\n",
       "</table>\n",
       "<p>5 rows × 48 columns</p>\n",
       "</div>"
      ],
      "text/plain": [
       "      Unnamed: 0   Edu  Age  Digit_span_Forward  Digit_span_Backward  \\\n",
       "9214       14921  18.0   80                   6                    4   \n",
       "9215       14922  18.0   80                   6                    4   \n",
       "9216       14923  18.0   80                  18                    4   \n",
       "9217       14924  18.0   80                  18                    3   \n",
       "9218       14925  18.0   80                   6                    4   \n",
       "\n",
       "      Letter_cancellation  Spontaneous_speech_fluency  \\\n",
       "9214                    3                           3   \n",
       "9215                    3                           3   \n",
       "9216                    3                           3   \n",
       "9217                    3                           3   \n",
       "9218                    3                           3   \n",
       "\n",
       "      Spontaneous_speech_contents  Comprehension  Naming_K_BNT  ...  \\\n",
       "9214                            3              3            47  ...   \n",
       "9215                            3              3            47  ...   \n",
       "9216                            3              3            47  ...   \n",
       "9217                            3              3            47  ...   \n",
       "9218                            3              3            47  ...   \n",
       "\n",
       "      StroopTest_Colorreading_correct  StroopTest_Colorreading_error  \\\n",
       "9214                               82                              0   \n",
       "9215                               82                              0   \n",
       "9216                               82                              0   \n",
       "9217                               82                              0   \n",
       "9218                               82                              0   \n",
       "\n",
       "      K_MMSE_orientation_to_time  K_MMSE_orientation_to_place  \\\n",
       "9214                           5                            5   \n",
       "9215                           5                            5   \n",
       "9216                           5                            5   \n",
       "9217                           5                            5   \n",
       "9218                           5                            5   \n",
       "\n",
       "      K_MMSE_Registation  K_MMSE_attention_and_calculation  K_MMSE_recall  \\\n",
       "9214                   3                                 5              3   \n",
       "9215                   3                                 5              3   \n",
       "9216                   3                                 5              3   \n",
       "9217                   3                                 4              0   \n",
       "9218                   3                                 5              3   \n",
       "\n",
       "      K_MMSE_language  K_MMSE_drawing  Dx  \n",
       "9214                8               1   0  \n",
       "9215                8               1   0  \n",
       "9216                8               1   0  \n",
       "9217                7               1   0  \n",
       "9218                8               1   0  \n",
       "\n",
       "[5 rows x 48 columns]"
      ]
     },
     "execution_count": 4,
     "metadata": {},
     "output_type": "execute_result"
    }
   ],
   "source": [
    "Tests_df.tail()"
   ]
  },
  {
   "cell_type": "code",
   "execution_count": 5,
   "metadata": {},
   "outputs": [
    {
     "data": {
      "text/plain": [
       "(9219, 48)"
      ]
     },
     "execution_count": 5,
     "metadata": {},
     "output_type": "execute_result"
    }
   ],
   "source": [
    "Tests_df.shape"
   ]
  },
  {
   "cell_type": "code",
   "execution_count": 6,
   "metadata": {},
   "outputs": [
    {
     "data": {
      "text/plain": [
       "442512"
      ]
     },
     "execution_count": 6,
     "metadata": {},
     "output_type": "execute_result"
    }
   ],
   "source": [
    "Tests_df.size"
   ]
  },
  {
   "cell_type": "code",
   "execution_count": 7,
   "metadata": {},
   "outputs": [
    {
     "data": {
      "text/plain": [
       "Unnamed: 0                                 9219\n",
       "Edu                                        9219\n",
       "Age                                        9219\n",
       "Digit_span_Forward                         9219\n",
       "Digit_span_Backward                        9219\n",
       "Letter_cancellation                        9219\n",
       "Spontaneous_speech_fluency                 9219\n",
       "Spontaneous_speech_contents                9219\n",
       "Comprehension                              9219\n",
       "Naming_K_BNT                               9219\n",
       "Finger_naming                              9219\n",
       "Right_left_orientation                     9219\n",
       "Body_part_identification                   9219\n",
       "Praxis_Ideomotor                           9219\n",
       "Praxis_buccofacial                         9219\n",
       "Calculation_total_score                    9219\n",
       "Rey_CFT_copy_score                         9219\n",
       "Rey_CFT_copy_time                          9219\n",
       "SVLT_recall_trial1                         9219\n",
       "SVLT_recall_trial2                         9219\n",
       "SVLT_recall_trial3                         9219\n",
       "SVLT_recall                                9219\n",
       "SVLT_Delayed_recall                        9219\n",
       "SVLT_recognition_discriminability_index    9219\n",
       "RCFT_immediate_recall                      9219\n",
       "RCFT_delayed_recall                        9219\n",
       "RCFT_recognition_discriminability_index    9219\n",
       "Motor_impersistence                        9219\n",
       "Contrasting_program                        9219\n",
       "Go_No_Go                                   9219\n",
       "Alternating_hand_movement                  9219\n",
       "Alternating_square_and_triangle            9219\n",
       "Luria_loop                                 9219\n",
       "COWAT_animal                               9219\n",
       "COWAT_supermarket                          9219\n",
       "COWAT_phonemic_total_score                 9219\n",
       "StroopTest_Wordreading_correct             9219\n",
       "StroopTest_Wordreading_error               9219\n",
       "StroopTest_Colorreading_correct            9219\n",
       "StroopTest_Colorreading_error              9219\n",
       "K_MMSE_orientation_to_time                 9219\n",
       "K_MMSE_orientation_to_place                9219\n",
       "K_MMSE_Registation                         9219\n",
       "K_MMSE_attention_and_calculation           9219\n",
       "K_MMSE_recall                              9219\n",
       "K_MMSE_language                            9219\n",
       "K_MMSE_drawing                             9219\n",
       "Dx                                         9219\n",
       "dtype: int64"
      ]
     },
     "execution_count": 7,
     "metadata": {},
     "output_type": "execute_result"
    }
   ],
   "source": [
    "Tests_df.count()"
   ]
  },
  {
   "cell_type": "code",
   "execution_count": 8,
   "metadata": {},
   "outputs": [
    {
     "data": {
      "text/plain": [
       "1    6002\n",
       "0    3217\n",
       "Name: Dx, dtype: int64"
      ]
     },
     "execution_count": 8,
     "metadata": {},
     "output_type": "execute_result"
    }
   ],
   "source": [
    "Tests_df['Dx'].value_counts()"
   ]
  },
  {
   "cell_type": "code",
   "execution_count": 9,
   "metadata": {},
   "outputs": [
    {
     "data": {
      "text/plain": [
       "<AxesSubplot:xlabel='Age', ylabel='Digit_span_Forward'>"
      ]
     },
     "execution_count": 9,
     "metadata": {},
     "output_type": "execute_result"
    },
    {
     "data": {
      "image/png": "[encoded data removed]",
      "text/plain": [
       "<Figure size 432x288 with 1 Axes>"
      ]
     },
     "metadata": {
      "needs_background": "light"
     },
     "output_type": "display_data"
    }
   ],
   "source": [
    "#Distribution of the classes\n",
    "normal_df = Tests_df[Tests_df['Dx']==0] [0:200]\n",
    "mci_df = Tests_df[Tests_df['Dx']==1] [0:200]\n",
    "\n",
    "axes = normal_df.plot(kind= 'scatter', x = 'Age', y = 'Digit_span_Forward', color ='blue', label = 'Normal')\n",
    "\n",
    "mci_df.plot(kind= 'scatter', x = 'Age', y = 'Digit_span_Forward', color ='red', label = 'MCI', ax = axes)\n"
   ]
  },
  {
   "cell_type": "code",
   "execution_count": 10,
   "metadata": {},
   "outputs": [
    {
     "data": {
      "text/plain": [
       "Unnamed: 0                                   int64\n",
       "Edu                                        float64\n",
       "Age                                          int64\n",
       "Digit_span_Forward                           int64\n",
       "Digit_span_Backward                          int64\n",
       "Letter_cancellation                          int64\n",
       "Spontaneous_speech_fluency                   int64\n",
       "Spontaneous_speech_contents                  int64\n",
       "Comprehension                                int64\n",
       "Naming_K_BNT                                 int64\n",
       "Finger_naming                                int64\n",
       "Right_left_orientation                       int64\n",
       "Body_part_identification                     int64\n",
       "Praxis_Ideomotor                             int64\n",
       "Praxis_buccofacial                           int64\n",
       "Calculation_total_score                      int64\n",
       "Rey_CFT_copy_score                         float64\n",
       "Rey_CFT_copy_time                            int64\n",
       "SVLT_recall_trial1                           int64\n",
       "SVLT_recall_trial2                           int64\n",
       "SVLT_recall_trial3                           int64\n",
       "SVLT_recall                                  int64\n",
       "SVLT_Delayed_recall                          int64\n",
       "SVLT_recognition_discriminability_index    float64\n",
       "RCFT_immediate_recall                      float64\n",
       "RCFT_delayed_recall                        float64\n",
       "RCFT_recognition_discriminability_index    float64\n",
       "Motor_impersistence                          int64\n",
       "Contrasting_program                          int64\n",
       "Go_No_Go                                     int64\n",
       "Alternating_hand_movement                    int64\n",
       "Alternating_square_and_triangle              int64\n",
       "Luria_loop                                   int64\n",
       "COWAT_animal                                 int64\n",
       "COWAT_supermarket                            int64\n",
       "COWAT_phonemic_total_score                   int64\n",
       "StroopTest_Wordreading_correct               int64\n",
       "StroopTest_Wordreading_error                 int64\n",
       "StroopTest_Colorreading_correct              int64\n",
       "StroopTest_Colorreading_error                int64\n",
       "K_MMSE_orientation_to_time                   int64\n",
       "K_MMSE_orientation_to_place                  int64\n",
       "K_MMSE_Registation                           int64\n",
       "K_MMSE_attention_and_calculation             int64\n",
       "K_MMSE_recall                                int64\n",
       "K_MMSE_language                              int64\n",
       "K_MMSE_drawing                               int64\n",
       "Dx                                           int64\n",
       "dtype: object"
      ]
     },
     "execution_count": 10,
     "metadata": {},
     "output_type": "execute_result"
    }
   ],
   "source": [
    "#Identifying unwated rows\n",
    "\n",
    "Tests_df.dtypes"
   ]
  },
  {
   "cell_type": "code",
   "execution_count": 11,
   "metadata": {},
   "outputs": [],
   "source": [
    "Tests_df = Tests_df[pd.to_numeric (Tests_df['Edu'], errors = 'coerce').notnull()]\n",
    "Tests_df['Edu'] = Tests_df['Edu'].astype('int')"
   ]
  },
  {
   "cell_type": "code",
   "execution_count": 12,
   "metadata": {},
   "outputs": [],
   "source": [
    "Tests_df = Tests_df[pd.to_numeric (Tests_df['Rey_CFT_copy_score'], errors = 'coerce').notnull()]\n",
    "Tests_df['Rey_CFT_copy_score'] = Tests_df['Rey_CFT_copy_score'].astype('int')"
   ]
  },
  {
   "cell_type": "code",
   "execution_count": 13,
   "metadata": {},
   "outputs": [],
   "source": [
    "Tests_df = Tests_df[pd.to_numeric (Tests_df['SVLT_recognition_discriminability_index'], errors = 'coerce').notnull()]\n",
    "Tests_df['SVLT_recognition_discriminability_index'] = Tests_df['SVLT_recognition_discriminability_index'].astype('int')"
   ]
  },
  {
   "cell_type": "code",
   "execution_count": 14,
   "metadata": {},
   "outputs": [],
   "source": [
    "Tests_df = Tests_df[pd.to_numeric (Tests_df['RCFT_immediate_recall'], errors = 'coerce').notnull()]\n",
    "Tests_df['RCFT_immediate_recall'] = Tests_df['RCFT_immediate_recall'].astype('int')"
   ]
  },
  {
   "cell_type": "code",
   "execution_count": 15,
   "metadata": {},
   "outputs": [],
   "source": [
    "Tests_df = Tests_df[pd.to_numeric (Tests_df['RCFT_delayed_recall'], errors = 'coerce').notnull()]\n",
    "Tests_df['RCFT_delayed_recall'] = Tests_df['RCFT_delayed_recall'].astype('int')"
   ]
  },
  {
   "cell_type": "code",
   "execution_count": 16,
   "metadata": {},
   "outputs": [
    {
     "data": {
      "text/plain": [
       "Unnamed: 0                                 int64\n",
       "Edu                                        int32\n",
       "Age                                        int64\n",
       "Digit_span_Forward                         int64\n",
       "Digit_span_Backward                        int64\n",
       "Letter_cancellation                        int64\n",
       "Spontaneous_speech_fluency                 int64\n",
       "Spontaneous_speech_contents                int64\n",
       "Comprehension                              int64\n",
       "Naming_K_BNT                               int64\n",
       "Finger_naming                              int64\n",
       "Right_left_orientation                     int64\n",
       "Body_part_identification                   int64\n",
       "Praxis_Ideomotor                           int64\n",
       "Praxis_buccofacial                         int64\n",
       "Calculation_total_score                    int64\n",
       "Rey_CFT_copy_score                         int32\n",
       "Rey_CFT_copy_time                          int64\n",
       "SVLT_recall_trial1                         int64\n",
       "SVLT_recall_trial2                         int64\n",
       "SVLT_recall_trial3                         int64\n",
       "SVLT_recall                                int64\n",
       "SVLT_Delayed_recall                        int64\n",
       "SVLT_recognition_discriminability_index    int32\n",
       "RCFT_immediate_recall                      int32\n",
       "RCFT_delayed_recall                        int32\n",
       "RCFT_recognition_discriminability_index    int32\n",
       "Motor_impersistence                        int64\n",
       "Contrasting_program                        int64\n",
       "Go_No_Go                                   int64\n",
       "Alternating_hand_movement                  int64\n",
       "Alternating_square_and_triangle            int64\n",
       "Luria_loop                                 int64\n",
       "COWAT_animal                               int64\n",
       "COWAT_supermarket                          int64\n",
       "COWAT_phonemic_total_score                 int64\n",
       "StroopTest_Wordreading_correct             int64\n",
       "StroopTest_Wordreading_error               int64\n",
       "StroopTest_Colorreading_correct            int64\n",
       "StroopTest_Colorreading_error              int64\n",
       "K_MMSE_orientation_to_time                 int64\n",
       "K_MMSE_orientation_to_place                int64\n",
       "K_MMSE_Registation                         int64\n",
       "K_MMSE_attention_and_calculation           int64\n",
       "K_MMSE_recall                              int64\n",
       "K_MMSE_language                            int64\n",
       "K_MMSE_drawing                             int64\n",
       "Dx                                         int64\n",
       "dtype: object"
      ]
     },
     "execution_count": 16,
     "metadata": {},
     "output_type": "execute_result"
    }
   ],
   "source": [
    "Tests_df = Tests_df[pd.to_numeric (Tests_df['RCFT_recognition_discriminability_index'], errors = 'coerce').notnull()]\n",
    "Tests_df['RCFT_recognition_discriminability_index'] = Tests_df['RCFT_recognition_discriminability_index'].astype('int')\n",
    "Tests_df.dtypes"
   ]
  },
  {
   "cell_type": "code",
   "execution_count": 17,
   "metadata": {},
   "outputs": [
    {
     "data": {
      "text/plain": [
       "Index(['Unnamed: 0', 'Edu', 'Age', 'Digit_span_Forward', 'Digit_span_Backward',\n",
       "       'Letter_cancellation', 'Spontaneous_speech_fluency',\n",
       "       'Spontaneous_speech_contents', 'Comprehension', 'Naming_K_BNT',\n",
       "       'Finger_naming', 'Right_left_orientation', 'Body_part_identification',\n",
       "       'Praxis_Ideomotor', 'Praxis_buccofacial', 'Calculation_total_score',\n",
       "       'Rey_CFT_copy_score', 'Rey_CFT_copy_time', 'SVLT_recall_trial1',\n",
       "       'SVLT_recall_trial2', 'SVLT_recall_trial3', 'SVLT_recall',\n",
       "       'SVLT_Delayed_recall', 'SVLT_recognition_discriminability_index',\n",
       "       'RCFT_immediate_recall', 'RCFT_delayed_recall',\n",
       "       'RCFT_recognition_discriminability_index', 'Motor_impersistence',\n",
       "       'Contrasting_program', 'Go_No_Go', 'Alternating_hand_movement',\n",
       "       'Alternating_square_and_triangle', 'Luria_loop', 'COWAT_animal',\n",
       "       'COWAT_supermarket', 'COWAT_phonemic_total_score',\n",
       "       'StroopTest_Wordreading_correct', 'StroopTest_Wordreading_error',\n",
       "       'StroopTest_Colorreading_correct', 'StroopTest_Colorreading_error',\n",
       "       'K_MMSE_orientation_to_time', 'K_MMSE_orientation_to_place',\n",
       "       'K_MMSE_Registation', 'K_MMSE_attention_and_calculation',\n",
       "       'K_MMSE_recall', 'K_MMSE_language', 'K_MMSE_drawing', 'Dx'],\n",
       "      dtype='object')"
      ]
     },
     "execution_count": 17,
     "metadata": {},
     "output_type": "execute_result"
    }
   ],
   "source": [
    "#Remove unwanted columns\n",
    "\n",
    "Tests_df.columns\n"
   ]
  },
  {
   "cell_type": "code",
   "execution_count": 18,
   "metadata": {},
   "outputs": [],
   "source": [
    "feature_df = Tests_df[['Edu', 'Age', 'Digit_span_Forward', 'Digit_span_Backward',\n",
    "       'Letter_cancellation', 'Spontaneous_speech_fluency',\n",
    "       'Spontaneous_speech_contents', 'Comprehension', 'Naming_K_BNT',\n",
    "       'Finger_naming', 'Right_left_orientation', 'Body_part_identification',\n",
    "       'Praxis_Ideomotor', 'Praxis_buccofacial', 'Calculation_total_score',\n",
    "       'Rey_CFT_copy_score', 'Rey_CFT_copy_time', 'SVLT_recall_trial1',\n",
    "       'SVLT_recall_trial2', 'SVLT_recall_trial3', 'SVLT_recall',\n",
    "       'SVLT_Delayed_recall', 'SVLT_recognition_discriminability_index',\n",
    "       'RCFT_immediate_recall', 'RCFT_delayed_recall',\n",
    "       'RCFT_recognition_discriminability_index', 'Motor_impersistence',\n",
    "       'Contrasting_program', 'Go_No_Go', 'Alternating_hand_movement',\n",
    "       'Alternating_square_and_triangle', 'Luria_loop', 'COWAT_animal',\n",
    "       'COWAT_supermarket', 'COWAT_phonemic_total_score',\n",
    "       'StroopTest_Wordreading_correct', 'StroopTest_Wordreading_error',\n",
    "       'StroopTest_Colorreading_correct', 'StroopTest_Colorreading_error',\n",
    "       'K_MMSE_orientation_to_time', 'K_MMSE_orientation_to_place',\n",
    "       'K_MMSE_Registation', 'K_MMSE_attention_and_calculation',\n",
    "       'K_MMSE_recall', 'K_MMSE_language', 'K_MMSE_drawing']]"
   ]
  },
  {
   "cell_type": "code",
   "execution_count": 19,
   "metadata": {},
   "outputs": [
    {
     "data": {
      "text/plain": [
       "array([0, 0, 0, 1, 1], dtype=int64)"
      ]
     },
     "execution_count": 19,
     "metadata": {},
     "output_type": "execute_result"
    }
   ],
   "source": [
    "# cell_df 100 rows and 11 columns,\n",
    "#picked 9 columns out of 11\n",
    "\n",
    "#Independent var\n",
    "X = np.asarray (feature_df)\n",
    "\n",
    "# dependet variable\n",
    "Y= np.asarray (Tests_df['Dx'])\n",
    "\n",
    "Y[0:5]\n",
    "               \n",
    "               "
   ]
  },
  {
   "cell_type": "code",
   "execution_count": 20,
   "metadata": {},
   "outputs": [
    {
     "data": {
      "text/plain": [
       "(1844,)"
      ]
     },
     "execution_count": 20,
     "metadata": {},
     "output_type": "execute_result"
    }
   ],
   "source": [
    "# Divide the date as Train/Test dataset\n",
    "'''\n",
    "    cell_df (100) --> Train (80 rows) / Test (20 rows)\n",
    "    \n",
    "    Train(X, Y) ## x itself is 2D array.  ## y is 1D\n",
    "    Test (X, Y)\n",
    "'''\n",
    "\n",
    "from sklearn.model_selection import train_test_split\n",
    "\n",
    "\n",
    "X_train, X_test, Y_train, Y_test = train_test_split(X, Y, test_size=0.2, random_state=4)\n",
    "\n",
    "#11940*44\n",
    "X_train.shape\n",
    "\n",
    "#11940*1\n",
    "Y_train.shape\n",
    "\n",
    "#2986*44\n",
    "X_test.shape\n",
    "\n",
    "#2986*1\n",
    "Y_test.shape"
   ]
  },
  {
   "cell_type": "code",
   "execution_count": 21,
   "metadata": {},
   "outputs": [],
   "source": [
    "#Modeling (SVM with Scikit-learn)\n",
    "\n",
    "from sklearn import svm \n",
    "\n",
    "classifier = svm.SVC(kernel='linear', gamma='auto', C=2)\n",
    "classifier.fit(X_train, Y_train)\n",
    "\n",
    "Y_Predict = classifier.predict(X_test)"
   ]
  },
  {
   "cell_type": "code",
   "execution_count": 22,
   "metadata": {},
   "outputs": [
    {
     "name": "stdout",
     "output_type": "stream",
     "text": [
      "Accuracy Score Normal vs MCI:  0.886117136659436\n"
     ]
    }
   ],
   "source": [
    "from sklearn.metrics import accuracy_score\n",
    "print ('Accuracy Score Normal vs MCI: ', accuracy_score(Y_test, Y_Predict))"
   ]
  },
  {
   "cell_type": "code",
   "execution_count": 23,
   "metadata": {},
   "outputs": [
    {
     "data": {
      "text/html": [
       "<div>\n",
       "<style scoped>\n",
       "    .dataframe tbody tr th:only-of-type {\n",
       "        vertical-align: middle;\n",
       "    }\n",
       "\n",
       "    .dataframe tbody tr th {\n",
       "        vertical-align: top;\n",
       "    }\n",
       "\n",
       "    .dataframe thead th {\n",
       "        text-align: right;\n",
       "    }\n",
       "</style>\n",
       "<table border=\"1\" class=\"dataframe\">\n",
       "  <thead>\n",
       "    <tr style=\"text-align: right;\">\n",
       "      <th></th>\n",
       "      <th>0</th>\n",
       "      <th>1</th>\n",
       "      <th>accuracy</th>\n",
       "      <th>macro avg</th>\n",
       "      <th>weighted avg</th>\n",
       "    </tr>\n",
       "  </thead>\n",
       "  <tbody>\n",
       "    <tr>\n",
       "      <th>precision</th>\n",
       "      <td>0.835423</td>\n",
       "      <td>0.912935</td>\n",
       "      <td>0.886117</td>\n",
       "      <td>0.874179</td>\n",
       "      <td>0.886117</td>\n",
       "    </tr>\n",
       "    <tr>\n",
       "      <th>recall</th>\n",
       "      <td>0.835423</td>\n",
       "      <td>0.912935</td>\n",
       "      <td>0.886117</td>\n",
       "      <td>0.874179</td>\n",
       "      <td>0.886117</td>\n",
       "    </tr>\n",
       "    <tr>\n",
       "      <th>f1-score</th>\n",
       "      <td>0.835423</td>\n",
       "      <td>0.912935</td>\n",
       "      <td>0.886117</td>\n",
       "      <td>0.874179</td>\n",
       "      <td>0.886117</td>\n",
       "    </tr>\n",
       "    <tr>\n",
       "      <th>support</th>\n",
       "      <td>638.000000</td>\n",
       "      <td>1206.000000</td>\n",
       "      <td>0.886117</td>\n",
       "      <td>1844.000000</td>\n",
       "      <td>1844.000000</td>\n",
       "    </tr>\n",
       "  </tbody>\n",
       "</table>\n",
       "</div>"
      ],
      "text/plain": [
       "                    0            1  accuracy    macro avg  weighted avg\n",
       "precision    0.835423     0.912935  0.886117     0.874179      0.886117\n",
       "recall       0.835423     0.912935  0.886117     0.874179      0.886117\n",
       "f1-score     0.835423     0.912935  0.886117     0.874179      0.886117\n",
       "support    638.000000  1206.000000  0.886117  1844.000000   1844.000000"
      ]
     },
     "execution_count": 23,
     "metadata": {},
     "output_type": "execute_result"
    }
   ],
   "source": [
    "from sklearn.metrics import classification_report\n",
    "\n",
    "pd.DataFrame(classification_report(Y_test, Y_Predict, output_dict=True))"
   ]
  },
  {
   "cell_type": "code",
   "execution_count": 24,
   "metadata": {},
   "outputs": [
    {
     "data": {
      "image/png": "[encoded data removed]",
      "text/plain": [
       "<Figure size 432x288 with 2 Axes>"
      ]
     },
     "metadata": {
      "needs_background": "light"
     },
     "output_type": "display_data"
    }
   ],
   "source": [
    "from sklearn import metrics\n",
    "import scikitplot as skplt\n",
    "\n",
    "skplt.metrics.plot_confusion_matrix(Y_test, Y_Predict)\n",
    "plt.show()"
   ]
  },
  {
   "cell_type": "code",
   "execution_count": 25,
   "metadata": {},
   "outputs": [
    {
     "data": {
      "image/png": "[encoded data removed]",
      "text/plain": [
       "<Figure size 500x500 with 1 Axes>"
      ]
     },
     "metadata": {
      "needs_background": "light"
     },
     "output_type": "display_data"
    }
   ],
   "source": [
    "from sklearn.metrics import roc_curve, auc\n",
    "\n",
    "svm_fpr, svm_tpr, threshold = roc_curve(Y_test, Y_Predict)\n",
    "auc_svm = auc(svm_fpr, svm_tpr)\n",
    "\n",
    "plt.figure(figsize=(5, 5), dpi=100)\n",
    "plt.plot(svm_fpr, svm_tpr, linestyle='-', label='SVM (auc = %0.3f)' % auc_svm)\n",
    "\n",
    "\n",
    "plt.xlabel('False Positive Rate (Specificity)')\n",
    "plt.ylabel('True Positive Rate (Sensitivity)')\n",
    "plt.plot([0, 1], [0, 1], 'k--')\n",
    "plt.legend()\n",
    "\n",
    "plt.show()"
   ]
  },
  {
   "cell_type": "code",
   "execution_count": null,
   "metadata": {},
   "outputs": [],
   "source": []
  }
 ],
 "metadata": {
  "kernelspec": {
   "display_name": "Python 3",
   "language": "python",
   "name": "python3"
  },
  "language_info": {
   "codemirror_mode": {
    "name": "ipython",
    "version": 3
   },
   "file_extension": ".py",
   "mimetype": "text/x-python",
   "name": "python",
   "nbconvert_exporter": "python",
   "pygments_lexer": "ipython3",
   "version": "3.7.6"
  }
 },
 "nbformat": 4,
 "nbformat_minor": 4
}
